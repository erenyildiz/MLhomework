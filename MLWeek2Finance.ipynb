{
  "nbformat": 4,
  "nbformat_minor": 0,
  "metadata": {
    "colab": {
      "name": "MLWeek2Finance.ipynb",
      "version": "0.3.2",
      "provenance": [],
      "collapsed_sections": [],
      "include_colab_link": true
    },
    "kernelspec": {
      "name": "python3",
      "display_name": "Python 3"
    }
  },
  "cells": [
    {
      "cell_type": "markdown",
      "metadata": {
        "id": "view-in-github",
        "colab_type": "text"
      },
      "source": [
        "<a href=\"https://colab.research.google.com/github/erenyildiz/MLhomework/blob/master/MLWeek2Finance.ipynb\" target=\"_parent\"><img src=\"https://colab.research.google.com/assets/colab-badge.svg\" alt=\"Open In Colab\"/></a>"
      ]
    },
    {
      "cell_type": "markdown",
      "metadata": {
        "id": "3yPLoBBhbHAe",
        "colab_type": "text"
      },
      "source": [
        "### **Preparation**"
      ]
    },
    {
      "cell_type": "code",
      "metadata": {
        "id": "p1Kpy-ffbG_Y",
        "colab_type": "code",
        "colab": {
          "base_uri": "https://localhost:8080/",
          "height": 72
        },
        "outputId": "000be9f3-797b-452d-86a2-e28c09206754"
      },
      "source": [
        "import numpy as np\n",
        "import pandas as pd\n",
        "import matplotlib.pyplot as plt\n",
        "\n",
        "from pandas_datareader import data as pdr\n",
        "import fix_yahoo_finance as yf\n",
        "\n",
        "!pip install yfinance --upgrade --no-cache-dir\n",
        "yf.pdr_override()\n",
        "\n",
        "import numpy as np\n",
        "\n",
        "#modeling part\n",
        "from sklearn.linear_model import LinearRegression\n",
        "from sklearn.linear_model import Lasso\n",
        "from sklearn.neighbors import KNeighborsRegressor\n",
        "from sklearn.linear_model import Ridge\n",
        "\n",
        "from sklearn.preprocessing import PolynomialFeatures\n",
        "from sklearn.pipeline import make_pipeline\n",
        "from sklearn import preprocessing, svm\n",
        "from sklearn.model_selection import train_test_split\n",
        "from sklearn.ensemble import GradientBoostingRegressor\n",
        "\n",
        "#modeling metrics\n",
        "from sklearn import metrics"
      ],
      "execution_count": 6,
      "outputs": [
        {
          "output_type": "stream",
          "text": [
            "shell-init: error retrieving current directory: getcwd: cannot access parent directories: Transport endpoint is not connected\n",
            "shell-init: error retrieving current directory: getcwd: cannot access parent directories: Transport endpoint is not connected\n",
            "The folder you are executing pip from can no longer be found.\n"
          ],
          "name": "stdout"
        }
      ]
    },
    {
      "cell_type": "markdown",
      "metadata": {
        "id": "FzoLqXJEbVaG",
        "colab_type": "text"
      },
      "source": [
        "### Import and Review **Data**"
      ]
    },
    {
      "cell_type": "code",
      "metadata": {
        "id": "vy8VUP_ljW3V",
        "colab_type": "code",
        "colab": {
          "base_uri": "https://localhost:8080/",
          "height": 970
        },
        "outputId": "ac86431c-cc39-4157-da18-16fc640e413e"
      },
      "source": [
        "#mounting drive to output the data on google drive\n",
        "from google.colab import drive\n",
        "drive.mount('/content/drive',force_remount=True)\n",
        "%cd \"/content/drive/My Drive/MLCourseWeek2\""
      ],
      "execution_count": 5,
      "outputs": [
        {
          "output_type": "stream",
          "text": [
            "ERROR:root:Internal Python error in the inspect module.\n",
            "Below is the traceback from this internal error.\n",
            "\n"
          ],
          "name": "stderr"
        },
        {
          "output_type": "stream",
          "text": [
            "Mounted at /content/drive\n",
            "Traceback (most recent call last):\n",
            "  File \"/usr/local/lib/python3.6/dist-packages/IPython/core/interactiveshell.py\", line 2882, in run_code\n",
            "    exec(code_obj, self.user_global_ns, self.user_ns)\n",
            "  File \"<ipython-input-5-d39e301c5d38>\", line 3, in <module>\n",
            "    get_ipython().magic('cd \"/content/drive/My Drive/MLCourseWeek2\"')\n",
            "  File \"/usr/local/lib/python3.6/dist-packages/IPython/core/interactiveshell.py\", line 2160, in magic\n",
            "    return self.run_line_magic(magic_name, magic_arg_s)\n",
            "  File \"/usr/local/lib/python3.6/dist-packages/IPython/core/interactiveshell.py\", line 2081, in run_line_magic\n",
            "    result = fn(*args,**kwargs)\n",
            "  File \"</usr/local/lib/python3.6/dist-packages/decorator.py:decorator-gen-91>\", line 2, in cd\n",
            "  File \"/usr/local/lib/python3.6/dist-packages/IPython/core/magic.py\", line 188, in <lambda>\n",
            "    call = lambda f, *a, **k: f(*a, **k)\n",
            "  File \"/usr/local/lib/python3.6/dist-packages/IPython/core/magics/osm.py\", line 288, in cd\n",
            "    oldcwd = py3compat.getcwd()\n",
            "OSError: [Errno 107] Transport endpoint is not connected\n",
            "\n",
            "During handling of the above exception, another exception occurred:\n",
            "\n",
            "Traceback (most recent call last):\n",
            "  File \"/usr/local/lib/python3.6/dist-packages/IPython/core/interactiveshell.py\", line 1823, in showtraceback\n",
            "    stb = value._render_traceback_()\n",
            "AttributeError: 'OSError' object has no attribute '_render_traceback_'\n",
            "\n",
            "During handling of the above exception, another exception occurred:\n",
            "\n",
            "Traceback (most recent call last):\n",
            "  File \"/usr/local/lib/python3.6/dist-packages/IPython/core/ultratb.py\", line 1132, in get_records\n",
            "    return _fixed_getinnerframes(etb, number_of_lines_of_context, tb_offset)\n",
            "  File \"/usr/local/lib/python3.6/dist-packages/IPython/core/ultratb.py\", line 313, in wrapped\n",
            "    return f(*args, **kwargs)\n",
            "  File \"/usr/local/lib/python3.6/dist-packages/IPython/core/ultratb.py\", line 358, in _fixed_getinnerframes\n",
            "    records = fix_frame_records_filenames(inspect.getinnerframes(etb, context))\n",
            "  File \"/usr/lib/python3.6/inspect.py\", line 1490, in getinnerframes\n",
            "    frameinfo = (tb.tb_frame,) + getframeinfo(tb, context)\n",
            "  File \"/usr/lib/python3.6/inspect.py\", line 1448, in getframeinfo\n",
            "    filename = getsourcefile(frame) or getfile(frame)\n",
            "  File \"/usr/lib/python3.6/inspect.py\", line 696, in getsourcefile\n",
            "    if getattr(getmodule(object, filename), '__loader__', None) is not None:\n",
            "  File \"/usr/lib/python3.6/inspect.py\", line 725, in getmodule\n",
            "    file = getabsfile(object, _filename)\n",
            "  File \"/usr/lib/python3.6/inspect.py\", line 709, in getabsfile\n",
            "    return os.path.normcase(os.path.abspath(_filename))\n",
            "  File \"/usr/lib/python3.6/posixpath.py\", line 383, in abspath\n",
            "    cwd = os.getcwd()\n",
            "OSError: [Errno 107] Transport endpoint is not connected\n"
          ],
          "name": "stdout"
        },
        {
          "output_type": "error",
          "ename": "OSError",
          "evalue": "ignored",
          "traceback": [
            "\u001b[0;31m---------------------------------------------------------------------------\u001b[0m"
          ]
        }
      ]
    },
    {
      "cell_type": "code",
      "metadata": {
        "id": "sbpfPUqhi-fd",
        "colab_type": "code",
        "colab": {
          "base_uri": "https://localhost:8080/",
          "height": 413
        },
        "outputId": "879b6344-0db5-4650-f375-9c1721f41d02"
      },
      "source": [
        "#get the data from yahoo\n",
        "df = pdr.get_data_yahoo(\"AAPL\", start=\"2018-01-01\").reset_index()\n",
        "\n",
        "#save the data to the mounted drive folder\n",
        "df.to_csv('AAPL.csv',index=False)\n",
        "\n",
        "df = pd.read_csv('AAPL.csv')"
      ],
      "execution_count": 4,
      "outputs": [
        {
          "output_type": "stream",
          "text": [
            "[*********************100%***********************]  1 of 1 downloaded\n"
          ],
          "name": "stdout"
        },
        {
          "output_type": "error",
          "ename": "ValueError",
          "evalue": "ignored",
          "traceback": [
            "\u001b[0;31m---------------------------------------------------------------------------\u001b[0m",
            "\u001b[0;31mValueError\u001b[0m                                Traceback (most recent call last)",
            "\u001b[0;32m<ipython-input-4-8669b4b60248>\u001b[0m in \u001b[0;36m<module>\u001b[0;34m()\u001b[0m\n\u001b[0;32m----> 1\u001b[0;31m \u001b[0mdf\u001b[0m \u001b[0;34m=\u001b[0m \u001b[0mpdr\u001b[0m\u001b[0;34m.\u001b[0m\u001b[0mget_data_yahoo\u001b[0m\u001b[0;34m(\u001b[0m\u001b[0;34m\"AAPL\"\u001b[0m\u001b[0;34m,\u001b[0m \u001b[0mstart\u001b[0m\u001b[0;34m=\u001b[0m\u001b[0;34m\"2018-01-01\"\u001b[0m\u001b[0;34m)\u001b[0m\u001b[0;34m.\u001b[0m\u001b[0mreset_index\u001b[0m\u001b[0;34m(\u001b[0m\u001b[0;34m)\u001b[0m\u001b[0;34m\u001b[0m\u001b[0;34m\u001b[0m\u001b[0m\n\u001b[0m\u001b[1;32m      2\u001b[0m \u001b[0;34m\u001b[0m\u001b[0m\n\u001b[1;32m      3\u001b[0m \u001b[0;31m#save the data to the mounted drive folder\u001b[0m\u001b[0;34m\u001b[0m\u001b[0;34m\u001b[0m\u001b[0;34m\u001b[0m\u001b[0m\n\u001b[1;32m      4\u001b[0m \u001b[0mdf\u001b[0m\u001b[0;34m.\u001b[0m\u001b[0mto_csv\u001b[0m\u001b[0;34m(\u001b[0m\u001b[0;34m'AAPL.csv'\u001b[0m\u001b[0;34m,\u001b[0m\u001b[0mindex\u001b[0m\u001b[0;34m=\u001b[0m\u001b[0;32mFalse\u001b[0m\u001b[0;34m)\u001b[0m\u001b[0;34m\u001b[0m\u001b[0;34m\u001b[0m\u001b[0m\n\u001b[1;32m      5\u001b[0m \u001b[0;34m\u001b[0m\u001b[0m\n",
            "\u001b[0;32m/usr/local/lib/python3.6/dist-packages/fix_yahoo_finance/__init__.py\u001b[0m in \u001b[0;36mdownload\u001b[0;34m(tickers, start, end, as_panel, group_by, auto_adjust, progress, actions, threads, **kwargs)\u001b[0m\n\u001b[1;32m    200\u001b[0m         \u001b[0;32melse\u001b[0m\u001b[0;34m:\u001b[0m\u001b[0;34m\u001b[0m\u001b[0;34m\u001b[0m\u001b[0m\n\u001b[1;32m    201\u001b[0m             data = data[['Open', 'High', 'Low',\n\u001b[0;32m--> 202\u001b[0;31m                             'Close', 'Adj Close', 'Volume']]\n\u001b[0m\u001b[1;32m    203\u001b[0m \u001b[0;34m\u001b[0m\u001b[0m\n\u001b[1;32m    204\u001b[0m     \u001b[0;31m# return single df if only one ticker\u001b[0m\u001b[0;34m\u001b[0m\u001b[0;34m\u001b[0m\u001b[0;34m\u001b[0m\u001b[0m\n",
            "\u001b[0;32m/usr/local/lib/python3.6/dist-packages/pandas/core/frame.py\u001b[0m in \u001b[0;36m__getitem__\u001b[0;34m(self, key)\u001b[0m\n\u001b[1;32m   2932\u001b[0m                 \u001b[0mkey\u001b[0m \u001b[0;34m=\u001b[0m \u001b[0mlist\u001b[0m\u001b[0;34m(\u001b[0m\u001b[0mkey\u001b[0m\u001b[0;34m)\u001b[0m\u001b[0;34m\u001b[0m\u001b[0;34m\u001b[0m\u001b[0m\n\u001b[1;32m   2933\u001b[0m             indexer = self.loc._convert_to_indexer(key, axis=1,\n\u001b[0;32m-> 2934\u001b[0;31m                                                    raise_missing=True)\n\u001b[0m\u001b[1;32m   2935\u001b[0m \u001b[0;34m\u001b[0m\u001b[0m\n\u001b[1;32m   2936\u001b[0m         \u001b[0;31m# take() does not accept boolean indexers\u001b[0m\u001b[0;34m\u001b[0m\u001b[0;34m\u001b[0m\u001b[0;34m\u001b[0m\u001b[0m\n",
            "\u001b[0;32m/usr/local/lib/python3.6/dist-packages/pandas/core/indexing.py\u001b[0m in \u001b[0;36m_convert_to_indexer\u001b[0;34m(self, obj, axis, is_setter, raise_missing)\u001b[0m\n\u001b[1;32m   1352\u001b[0m                 kwargs = {'raise_missing': True if is_setter else\n\u001b[1;32m   1353\u001b[0m                           raise_missing}\n\u001b[0;32m-> 1354\u001b[0;31m                 \u001b[0;32mreturn\u001b[0m \u001b[0mself\u001b[0m\u001b[0;34m.\u001b[0m\u001b[0m_get_listlike_indexer\u001b[0m\u001b[0;34m(\u001b[0m\u001b[0mobj\u001b[0m\u001b[0;34m,\u001b[0m \u001b[0maxis\u001b[0m\u001b[0;34m,\u001b[0m \u001b[0;34m**\u001b[0m\u001b[0mkwargs\u001b[0m\u001b[0;34m)\u001b[0m\u001b[0;34m[\u001b[0m\u001b[0;36m1\u001b[0m\u001b[0;34m]\u001b[0m\u001b[0;34m\u001b[0m\u001b[0;34m\u001b[0m\u001b[0m\n\u001b[0m\u001b[1;32m   1355\u001b[0m         \u001b[0;32melse\u001b[0m\u001b[0;34m:\u001b[0m\u001b[0;34m\u001b[0m\u001b[0;34m\u001b[0m\u001b[0m\n\u001b[1;32m   1356\u001b[0m             \u001b[0;32mtry\u001b[0m\u001b[0;34m:\u001b[0m\u001b[0;34m\u001b[0m\u001b[0;34m\u001b[0m\u001b[0m\n",
            "\u001b[0;32m/usr/local/lib/python3.6/dist-packages/pandas/core/indexing.py\u001b[0m in \u001b[0;36m_get_listlike_indexer\u001b[0;34m(self, key, axis, raise_missing)\u001b[0m\n\u001b[1;32m   1140\u001b[0m         \u001b[0;31m# if it cannot handle:\u001b[0m\u001b[0;34m\u001b[0m\u001b[0;34m\u001b[0m\u001b[0;34m\u001b[0m\u001b[0m\n\u001b[1;32m   1141\u001b[0m         indexer, keyarr = ax._convert_listlike_indexer(key,\n\u001b[0;32m-> 1142\u001b[0;31m                                                        kind=self.name)\n\u001b[0m\u001b[1;32m   1143\u001b[0m         \u001b[0;31m# We only act on all found values:\u001b[0m\u001b[0;34m\u001b[0m\u001b[0;34m\u001b[0m\u001b[0;34m\u001b[0m\u001b[0m\n\u001b[1;32m   1144\u001b[0m         \u001b[0;32mif\u001b[0m \u001b[0mindexer\u001b[0m \u001b[0;32mis\u001b[0m \u001b[0;32mnot\u001b[0m \u001b[0;32mNone\u001b[0m \u001b[0;32mand\u001b[0m \u001b[0;34m(\u001b[0m\u001b[0mindexer\u001b[0m \u001b[0;34m!=\u001b[0m \u001b[0;34m-\u001b[0m\u001b[0;36m1\u001b[0m\u001b[0;34m)\u001b[0m\u001b[0;34m.\u001b[0m\u001b[0mall\u001b[0m\u001b[0;34m(\u001b[0m\u001b[0;34m)\u001b[0m\u001b[0;34m:\u001b[0m\u001b[0;34m\u001b[0m\u001b[0;34m\u001b[0m\u001b[0m\n",
            "\u001b[0;32m/usr/local/lib/python3.6/dist-packages/pandas/core/indexes/multi.py\u001b[0m in \u001b[0;36m_convert_listlike_indexer\u001b[0;34m(self, keyarr, kind)\u001b[0m\n\u001b[1;32m   2125\u001b[0m                                                               tuple):\n\u001b[1;32m   2126\u001b[0m             \u001b[0mlevel\u001b[0m \u001b[0;34m=\u001b[0m \u001b[0;36m0\u001b[0m\u001b[0;34m\u001b[0m\u001b[0;34m\u001b[0m\u001b[0m\n\u001b[0;32m-> 2127\u001b[0;31m             \u001b[0m_\u001b[0m\u001b[0;34m,\u001b[0m \u001b[0mindexer\u001b[0m \u001b[0;34m=\u001b[0m \u001b[0mself\u001b[0m\u001b[0;34m.\u001b[0m\u001b[0mreindex\u001b[0m\u001b[0;34m(\u001b[0m\u001b[0mkeyarr\u001b[0m\u001b[0;34m,\u001b[0m \u001b[0mlevel\u001b[0m\u001b[0;34m=\u001b[0m\u001b[0mlevel\u001b[0m\u001b[0;34m)\u001b[0m\u001b[0;34m\u001b[0m\u001b[0;34m\u001b[0m\u001b[0m\n\u001b[0m\u001b[1;32m   2128\u001b[0m \u001b[0;34m\u001b[0m\u001b[0m\n\u001b[1;32m   2129\u001b[0m             \u001b[0;31m# take all\u001b[0m\u001b[0;34m\u001b[0m\u001b[0;34m\u001b[0m\u001b[0;34m\u001b[0m\u001b[0m\n",
            "\u001b[0;32m/usr/local/lib/python3.6/dist-packages/pandas/core/indexes/multi.py\u001b[0m in \u001b[0;36mreindex\u001b[0;34m(self, target, method, level, limit, tolerance)\u001b[0m\n\u001b[1;32m   2214\u001b[0m             target, indexer, _ = self._join_level(target, level, how='right',\n\u001b[1;32m   2215\u001b[0m                                                   \u001b[0mreturn_indexers\u001b[0m\u001b[0;34m=\u001b[0m\u001b[0;32mTrue\u001b[0m\u001b[0;34m,\u001b[0m\u001b[0;34m\u001b[0m\u001b[0;34m\u001b[0m\u001b[0m\n\u001b[0;32m-> 2216\u001b[0;31m                                                   keep_order=False)\n\u001b[0m\u001b[1;32m   2217\u001b[0m         \u001b[0;32melse\u001b[0m\u001b[0;34m:\u001b[0m\u001b[0;34m\u001b[0m\u001b[0;34m\u001b[0m\u001b[0m\n\u001b[1;32m   2218\u001b[0m             \u001b[0mtarget\u001b[0m \u001b[0;34m=\u001b[0m \u001b[0mensure_index\u001b[0m\u001b[0;34m(\u001b[0m\u001b[0mtarget\u001b[0m\u001b[0;34m)\u001b[0m\u001b[0;34m\u001b[0m\u001b[0;34m\u001b[0m\u001b[0m\n",
            "\u001b[0;32m/usr/local/lib/python3.6/dist-packages/pandas/core/indexes/base.py\u001b[0m in \u001b[0;36m_join_level\u001b[0;34m(self, other, level, how, return_indexers, keep_order)\u001b[0m\n\u001b[1;32m   3510\u001b[0m             \u001b[0;32melse\u001b[0m\u001b[0;34m:\u001b[0m  \u001b[0;31m# tie out the order with other\u001b[0m\u001b[0;34m\u001b[0m\u001b[0;34m\u001b[0m\u001b[0m\n\u001b[1;32m   3511\u001b[0m                 \u001b[0;32mif\u001b[0m \u001b[0mlevel\u001b[0m \u001b[0;34m==\u001b[0m \u001b[0;36m0\u001b[0m\u001b[0;34m:\u001b[0m  \u001b[0;31m# outer most level, take the fast route\u001b[0m\u001b[0;34m\u001b[0m\u001b[0;34m\u001b[0m\u001b[0m\n\u001b[0;32m-> 3512\u001b[0;31m                     \u001b[0mngroups\u001b[0m \u001b[0;34m=\u001b[0m \u001b[0;36m1\u001b[0m \u001b[0;34m+\u001b[0m \u001b[0mnew_lev_codes\u001b[0m\u001b[0;34m.\u001b[0m\u001b[0mmax\u001b[0m\u001b[0;34m(\u001b[0m\u001b[0;34m)\u001b[0m\u001b[0;34m\u001b[0m\u001b[0;34m\u001b[0m\u001b[0m\n\u001b[0m\u001b[1;32m   3513\u001b[0m                     left_indexer, counts = libalgos.groupsort_indexer(\n\u001b[1;32m   3514\u001b[0m                         new_lev_codes, ngroups)\n",
            "\u001b[0;32m/usr/local/lib/python3.6/dist-packages/numpy/core/_methods.py\u001b[0m in \u001b[0;36m_amax\u001b[0;34m(a, axis, out, keepdims, initial)\u001b[0m\n\u001b[1;32m     26\u001b[0m def _amax(a, axis=None, out=None, keepdims=False,\n\u001b[1;32m     27\u001b[0m           initial=_NoValue):\n\u001b[0;32m---> 28\u001b[0;31m     \u001b[0;32mreturn\u001b[0m \u001b[0mumr_maximum\u001b[0m\u001b[0;34m(\u001b[0m\u001b[0ma\u001b[0m\u001b[0;34m,\u001b[0m \u001b[0maxis\u001b[0m\u001b[0;34m,\u001b[0m \u001b[0;32mNone\u001b[0m\u001b[0;34m,\u001b[0m \u001b[0mout\u001b[0m\u001b[0;34m,\u001b[0m \u001b[0mkeepdims\u001b[0m\u001b[0;34m,\u001b[0m \u001b[0minitial\u001b[0m\u001b[0;34m)\u001b[0m\u001b[0;34m\u001b[0m\u001b[0;34m\u001b[0m\u001b[0m\n\u001b[0m\u001b[1;32m     29\u001b[0m \u001b[0;34m\u001b[0m\u001b[0m\n\u001b[1;32m     30\u001b[0m def _amin(a, axis=None, out=None, keepdims=False,\n",
            "\u001b[0;31mValueError\u001b[0m: zero-size array to reduction operation maximum which has no identity"
          ]
        }
      ]
    },
    {
      "cell_type": "code",
      "metadata": {
        "id": "bZDI_lImmHiw",
        "colab_type": "code",
        "colab": {}
      },
      "source": [
        "#checking the first rows of the data\n",
        "df.head()"
      ],
      "execution_count": 0,
      "outputs": []
    },
    {
      "cell_type": "code",
      "metadata": {
        "id": "TASD7mUKmJay",
        "colab_type": "code",
        "colab": {}
      },
      "source": [
        "#checking the shape of the data\n",
        "df.shape"
      ],
      "execution_count": 0,
      "outputs": []
    },
    {
      "cell_type": "code",
      "metadata": {
        "id": "s8e7ysB1mLes",
        "colab_type": "code",
        "colab": {}
      },
      "source": [
        "#checking the description of the data\n",
        "df.describe()"
      ],
      "execution_count": 0,
      "outputs": []
    },
    {
      "cell_type": "code",
      "metadata": {
        "id": "BU_Am7samOK3",
        "colab_type": "code",
        "colab": {}
      },
      "source": [
        "#check the plt of \"Adj Close\" row\n",
        "df[\"Adj Close\"].plot()"
      ],
      "execution_count": 0,
      "outputs": []
    },
    {
      "cell_type": "markdown",
      "metadata": {
        "id": "o4dR1bj9beih",
        "colab_type": "text"
      },
      "source": [
        "### **Prepare Data and Form Training Samples**"
      ]
    },
    {
      "cell_type": "code",
      "metadata": {
        "id": "ygBSp97VprPO",
        "colab_type": "code",
        "colab": {}
      },
      "source": [
        "days = 32\n",
        "number_samples = len(df)- days\n",
        "indices = np.arange(number_samples).astype(np.int)[:,None]+np.arange(days+1).astype(np.int)"
      ],
      "execution_count": 0,
      "outputs": []
    },
    {
      "cell_type": "code",
      "metadata": {
        "id": "fPRS78eAs2qb",
        "colab_type": "code",
        "colab": {}
      },
      "source": [
        "#to create a 2D matrix training sample\n",
        "data = df['Adj Close'].values[indices] \n",
        "x = data[:,:-1] #rows are 32 days\n",
        "y = data[:,-1] #row outputs are every 33rd day"
      ],
      "execution_count": 0,
      "outputs": []
    },
    {
      "cell_type": "code",
      "metadata": {
        "id": "9oVj73anwv4l",
        "colab_type": "code",
        "colab": {}
      },
      "source": [
        "#how much of the data we want to use for training, and how much for the test?\n",
        "split_fraction=0.85\n",
        "samp_split=int(split_fraction*number_samples)"
      ],
      "execution_count": 0,
      "outputs": []
    },
    {
      "cell_type": "code",
      "metadata": {
        "id": "6_qfMzMnxbac",
        "colab_type": "code",
        "colab": {}
      },
      "source": [
        "#splitting the data into train and test\n",
        "x_train = x[:samp_split]\n",
        "y_train = y[:samp_split]\n",
        "x_test = x[samp_split:]\n",
        "y_test = y[samp_split:]"
      ],
      "execution_count": 0,
      "outputs": []
    },
    {
      "cell_type": "markdown",
      "metadata": {
        "id": "vTCWuuCYWMvJ",
        "colab_type": "text"
      },
      "source": [
        "### **Create Test Functions for future use**"
      ]
    },
    {
      "cell_type": "code",
      "metadata": {
        "id": "vm_3_cg6tgEt",
        "colab_type": "code",
        "colab": {}
      },
      "source": [
        "#setting up a function to easily test output of any model\n",
        "from sklearn import metrics\n",
        "def logical_test (model_pred):\n",
        "  print('Mean Absolute Error:', metrics.mean_absolute_error(y_test, model_pred))\n",
        "  print('Mean Squared Error:', metrics.mean_squared_error(y_test, model_pred))\n",
        "  print('Root Mean Squared Error:', np.sqrt(metrics.mean_squared_error(y_test, model_pred)))"
      ],
      "execution_count": 0,
      "outputs": []
    },
    {
      "cell_type": "markdown",
      "metadata": {
        "id": "L7jlBfz0XMpS",
        "colab_type": "text"
      },
      "source": [
        "### **Create Visiualization Function for future use**"
      ]
    },
    {
      "cell_type": "code",
      "metadata": {
        "id": "wcbuhIr40Ebm",
        "colab_type": "code",
        "colab": {}
      },
      "source": [
        "#setting up a function to easily visualize output of any model\n",
        "def visualize(model_pred):\n",
        "  plt.scatter(model_pred, y_test, color='gray')\n",
        "  plt.plot(y_test, y_test, color='red', linewidth=2)"
      ],
      "execution_count": 0,
      "outputs": []
    },
    {
      "cell_type": "code",
      "metadata": {
        "id": "CyEAoacaQk4h",
        "colab_type": "code",
        "colab": {}
      },
      "source": [
        "df1 = df.head(15)\n",
        "df1.plot(kind='bar',figsize=(22,5))\n",
        "plt.grid(which='major', linestyle='-', linewidth='0.5', color='green')\n",
        "plt.grid(which='minor', linestyle=':', linewidth='0.5', color='black')\n",
        "plt.show()"
      ],
      "execution_count": 0,
      "outputs": []
    },
    {
      "cell_type": "markdown",
      "metadata": {
        "id": "X4Wqki8vW_77",
        "colab_type": "text"
      },
      "source": [
        "### **T-1 Stock Price Algorithm(LAG)**"
      ]
    },
    {
      "cell_type": "code",
      "metadata": {
        "id": "djroZwe4xiJY",
        "colab_type": "code",
        "colab": {}
      },
      "source": [
        "y_pred_lag=np.roll(y_test,1)"
      ],
      "execution_count": 0,
      "outputs": []
    },
    {
      "cell_type": "code",
      "metadata": {
        "id": "j_keqTIlxn-l",
        "colab_type": "code",
        "colab": {}
      },
      "source": [
        "#testing the result of the predictions\n",
        "logical_test(y_pred_reg)"
      ],
      "execution_count": 0,
      "outputs": []
    },
    {
      "cell_type": "markdown",
      "metadata": {
        "id": "8DFCjhyG_Igz",
        "colab_type": "text"
      },
      "source": [
        "### **Regression** Algorithm"
      ]
    },
    {
      "cell_type": "code",
      "metadata": {
        "id": "B5OAXilKnoz2",
        "colab_type": "code",
        "colab": {}
      },
      "source": [
        "regressor = LinearRegression()  \n",
        "regressor.fit(x_train, y_train)"
      ],
      "execution_count": 0,
      "outputs": []
    },
    {
      "cell_type": "code",
      "metadata": {
        "id": "ByAIjQEEodKT",
        "colab_type": "code",
        "colab": {}
      },
      "source": [
        "y_pred_reg = regressor.predict(x_test)\n",
        "df = pd.DataFrame({'Actual': y_test, 'Predicted': y_pred_reg})\n",
        "df"
      ],
      "execution_count": 0,
      "outputs": []
    },
    {
      "cell_type": "markdown",
      "metadata": {
        "id": "pbmqixpHYT8n",
        "colab_type": "text"
      },
      "source": [
        "### **Quadratic Regression2**"
      ]
    },
    {
      "cell_type": "code",
      "metadata": {
        "id": "ru-qVOqh_4ZE",
        "colab_type": "code",
        "colab": {}
      },
      "source": [
        "#Quadratic Regression 2\n",
        "quadregressor2 = make_pipeline(PolynomialFeatures(2),Ridge())\n",
        "quadregressor2.fit(x_train, y_train)"
      ],
      "execution_count": 0,
      "outputs": []
    },
    {
      "cell_type": "code",
      "metadata": {
        "id": "2cLenClN-mCc",
        "colab_type": "code",
        "colab": {}
      },
      "source": [
        "y_pred_QuadReg2 = quadregressor2.predict(x_test)\n",
        "dfquadreg2 = pd.DataFrame({'Actual': y_test, 'Predicted': y_pred_QuadReg2})\n",
        "dfquadreg2"
      ],
      "execution_count": 0,
      "outputs": []
    },
    {
      "cell_type": "markdown",
      "metadata": {
        "id": "0JZ6r8ZSYgWe",
        "colab_type": "text"
      },
      "source": [
        "### **Quadratic Regression3**"
      ]
    },
    {
      "cell_type": "code",
      "metadata": {
        "id": "suGE_IYwAfjn",
        "colab_type": "code",
        "colab": {}
      },
      "source": [
        "#Quadratic Regression 3\n",
        "quadregressor3 = make_pipeline(PolynomialFeatures(3),Ridge())\n",
        "quadregressor3.fit(x_train, y_train)"
      ],
      "execution_count": 0,
      "outputs": []
    },
    {
      "cell_type": "code",
      "metadata": {
        "id": "BWrAojG7-miJ",
        "colab_type": "code",
        "colab": {}
      },
      "source": [
        "y_pred_QuadReg3 = quadregressor3.predict(x_test)\n",
        "dfquadreg3 = pd.DataFrame({'Actual': y_test, 'Predicted': y_pred_QuadReg3})\n",
        "dfquadreg3"
      ],
      "execution_count": 0,
      "outputs": []
    },
    {
      "cell_type": "markdown",
      "metadata": {
        "id": "0Zg5u6p7Ykjp",
        "colab_type": "text"
      },
      "source": [
        "### **Ridge Regression**"
      ]
    },
    {
      "cell_type": "code",
      "metadata": {
        "id": "bHJhFbnRHA7j",
        "colab_type": "code",
        "colab": {}
      },
      "source": [
        "RidgeRegression = Ridge()\n",
        "RidgeRegression.fit(x_train, y_train)"
      ],
      "execution_count": 0,
      "outputs": []
    },
    {
      "cell_type": "code",
      "metadata": {
        "id": "A-GicVypHUqb",
        "colab_type": "code",
        "colab": {}
      },
      "source": [
        "y_pred_ridge= RidgeRegression.predict(x_test)\n",
        "dfridgereg = pd.DataFrame({'Actual': y_test, 'Predicted': y_pred_ridge})\n",
        "dfridgereg"
      ],
      "execution_count": 0,
      "outputs": []
    },
    {
      "cell_type": "markdown",
      "metadata": {
        "id": "8dX9Nn2uYp9M",
        "colab_type": "text"
      },
      "source": [
        "### **KNN Regression**"
      ]
    },
    {
      "cell_type": "code",
      "metadata": {
        "id": "qhVlSwWcAjxl",
        "colab_type": "code",
        "colab": {}
      },
      "source": [
        "#KNN Regression\n",
        "KNNregressor = KNeighborsRegressor(n_neighbors=2)\n",
        "KNNregressor.fit(x_train,y_train)"
      ],
      "execution_count": 0,
      "outputs": []
    },
    {
      "cell_type": "code",
      "metadata": {
        "id": "QaAh6oSo-nJE",
        "colab_type": "code",
        "colab": {}
      },
      "source": [
        "y_pred_knnreg = KNNregressor.predict(x_test)\n",
        "dfknnreg = pd.DataFrame({'Actual': y_test, 'Predicted': y_pred_knnreg})\n",
        "dfknnreg"
      ],
      "execution_count": 0,
      "outputs": []
    },
    {
      "cell_type": "markdown",
      "metadata": {
        "id": "CWHKXO8bYuF5",
        "colab_type": "text"
      },
      "source": [
        "### **Gradient Boost**"
      ]
    },
    {
      "cell_type": "code",
      "metadata": {
        "id": "ujbErffkH_-j",
        "colab_type": "code",
        "colab": {}
      },
      "source": [
        "#gradient boost\n",
        "GradientBoost = GradientBoostingRegressor()\n",
        "GradientBoost.fit(x_train, y_train)"
      ],
      "execution_count": 0,
      "outputs": []
    },
    {
      "cell_type": "code",
      "metadata": {
        "id": "PBZeYyn5IAHs",
        "colab_type": "code",
        "colab": {}
      },
      "source": [
        "y_pred_grad = GradientBoost.predict(x_test)\n",
        "dfgradboost = pd.DataFrame({'Actual': y_test, 'Predicted': y_pred_grad})\n",
        "dfgradboost"
      ],
      "execution_count": 0,
      "outputs": []
    },
    {
      "cell_type": "markdown",
      "metadata": {
        "id": "xf7zc_lmYypd",
        "colab_type": "text"
      },
      "source": [
        "### **Confidence Checks**"
      ]
    },
    {
      "cell_type": "code",
      "metadata": {
        "id": "sHL-BO3B-R2o",
        "colab_type": "code",
        "colab": {}
      },
      "source": [
        "confidencereg = regressor.score(x_test, y_test)\n",
        "confidencereg"
      ],
      "execution_count": 0,
      "outputs": []
    },
    {
      "cell_type": "code",
      "metadata": {
        "id": "RS3m3CKjAbny",
        "colab_type": "code",
        "colab": {}
      },
      "source": [
        "confidencereg2 = quadregressor2.score(x_test, y_test)\n",
        "confidencereg2"
      ],
      "execution_count": 0,
      "outputs": []
    },
    {
      "cell_type": "code",
      "metadata": {
        "id": "kzSWbrn5AraG",
        "colab_type": "code",
        "colab": {}
      },
      "source": [
        "confidencereg3 = quadregressor3.score(x_test, y_test)\n",
        "confidencereg3"
      ],
      "execution_count": 0,
      "outputs": []
    },
    {
      "cell_type": "code",
      "metadata": {
        "id": "gNiBax3dAvzt",
        "colab_type": "code",
        "colab": {}
      },
      "source": [
        "confidenceknn = KNNregressor.score(x_test, y_test)\n",
        "confidenceknn"
      ],
      "execution_count": 0,
      "outputs": []
    },
    {
      "cell_type": "code",
      "metadata": {
        "id": "ISz9jA8EIwQj",
        "colab_type": "code",
        "colab": {}
      },
      "source": [
        "confidencegrad = GradientBoost.score(x_test, y_test)\n",
        "confidencegrad"
      ],
      "execution_count": 0,
      "outputs": []
    },
    {
      "cell_type": "markdown",
      "metadata": {
        "id": "wmGey-BCaSON",
        "colab_type": "text"
      },
      "source": [
        "### Visualizations"
      ]
    },
    {
      "cell_type": "code",
      "metadata": {
        "id": "blIwgzZA8Ffa",
        "colab_type": "code",
        "colab": {}
      },
      "source": [
        "visualize(y_pred_lag)"
      ],
      "execution_count": 0,
      "outputs": []
    },
    {
      "cell_type": "code",
      "metadata": {
        "id": "WavFtrbkxHDq",
        "colab_type": "code",
        "colab": {}
      },
      "source": [
        "visualize(y_pred_reg)"
      ],
      "execution_count": 0,
      "outputs": []
    },
    {
      "cell_type": "code",
      "metadata": {
        "id": "sfrWcWGfDEu-",
        "colab_type": "code",
        "colab": {}
      },
      "source": [
        "visualize(y_pred_QuadReg2)"
      ],
      "execution_count": 0,
      "outputs": []
    },
    {
      "cell_type": "code",
      "metadata": {
        "id": "sEen19SSDGAi",
        "colab_type": "code",
        "colab": {}
      },
      "source": [
        "visualize(y_pred_QuadReg3)"
      ],
      "execution_count": 0,
      "outputs": []
    },
    {
      "cell_type": "code",
      "metadata": {
        "id": "3PHrlxI6DHGH",
        "colab_type": "code",
        "colab": {}
      },
      "source": [
        "visualize(y_pred_knnreg)"
      ],
      "execution_count": 0,
      "outputs": []
    },
    {
      "cell_type": "code",
      "metadata": {
        "id": "Wnh7PmYVHnTe",
        "colab_type": "code",
        "colab": {}
      },
      "source": [
        "visualize(y_pred_ridge)"
      ],
      "execution_count": 0,
      "outputs": []
    },
    {
      "cell_type": "code",
      "metadata": {
        "id": "iPCvK0pCak9o",
        "colab_type": "code",
        "colab": {}
      },
      "source": [
        "visualize(y_pred_grad)"
      ],
      "execution_count": 0,
      "outputs": []
    },
    {
      "cell_type": "markdown",
      "metadata": {
        "id": "qyVHhIWdZ8f8",
        "colab_type": "text"
      },
      "source": [
        "### **Logical Tests**"
      ]
    },
    {
      "cell_type": "code",
      "metadata": {
        "id": "7DHtKomNGdmp",
        "colab_type": "code",
        "colab": {}
      },
      "source": [
        "logical_test(y_pred_lag)"
      ],
      "execution_count": 0,
      "outputs": []
    },
    {
      "cell_type": "code",
      "metadata": {
        "id": "xKTdTG0GFEpu",
        "colab_type": "code",
        "colab": {}
      },
      "source": [
        "logical_test(y_pred_reg)"
      ],
      "execution_count": 0,
      "outputs": []
    },
    {
      "cell_type": "code",
      "metadata": {
        "id": "H-z7IP2aFEyP",
        "colab_type": "code",
        "colab": {}
      },
      "source": [
        "logical_test(y_pred_QuadReg2)"
      ],
      "execution_count": 0,
      "outputs": []
    },
    {
      "cell_type": "code",
      "metadata": {
        "id": "0BoBR9T7FE5U",
        "colab_type": "code",
        "colab": {}
      },
      "source": [
        "logical_test(y_pred_QuadReg3)"
      ],
      "execution_count": 0,
      "outputs": []
    },
    {
      "cell_type": "code",
      "metadata": {
        "id": "VHiwBoGcFEds",
        "colab_type": "code",
        "colab": {}
      },
      "source": [
        "logical_test (y_pred_knnreg)"
      ],
      "execution_count": 0,
      "outputs": []
    },
    {
      "cell_type": "code",
      "metadata": {
        "id": "V819h2heHjfA",
        "colab_type": "code",
        "colab": {}
      },
      "source": [
        "logical_test(y_pred_ridge)"
      ],
      "execution_count": 0,
      "outputs": []
    },
    {
      "cell_type": "code",
      "metadata": {
        "id": "pcSAA5xUJBA_",
        "colab_type": "code",
        "colab": {}
      },
      "source": [
        "logical_test(y_pred_grad)"
      ],
      "execution_count": 0,
      "outputs": []
    },
    {
      "cell_type": "markdown",
      "metadata": {
        "id": "LQ6FMf4vaALO",
        "colab_type": "text"
      },
      "source": [
        "### **Comprehensive Comparison of all algorithms**"
      ]
    },
    {
      "cell_type": "code",
      "metadata": {
        "id": "aLEinlbWKEq9",
        "colab_type": "code",
        "colab": {}
      },
      "source": [
        "#Compare All\n",
        "comparison=pd.DataFrame({\"lag\":np.absolute(y_test-y_pred_lag),\n",
        "                         \"lr\":np.absolute(y_test-y_pred_reg),\n",
        "                         \"ridge\":np.absolute(y_test-y_pred_ridge),\n",
        "                         \"gb\":np.absolute(y_test-y_pred_grad),\n",
        "                         \"knn\":np.absolute(y_test-y_pred_knnreg),\n",
        "                         \"quad2\":np.absolute(y_test-y_pred_QuadReg2),\n",
        "                         \"quad3\":np.absolute(y_test-y_pred_QuadReg3)})"
      ],
      "execution_count": 0,
      "outputs": []
    },
    {
      "cell_type": "code",
      "metadata": {
        "id": "0gJZ6JvuLbg9",
        "colab_type": "code",
        "colab": {}
      },
      "source": [
        "comparison.plot.bar(figsize=(16,6))\n",
        "plt.ylim(0,10)\n",
        "plt.xlim(9,20)"
      ],
      "execution_count": 0,
      "outputs": []
    }
  ]
}